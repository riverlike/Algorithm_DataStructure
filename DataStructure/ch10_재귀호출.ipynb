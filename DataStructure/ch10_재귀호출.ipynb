{
  "nbformat": 4,
  "nbformat_minor": 0,
  "metadata": {
    "colab": {
      "name": "ch10_재귀호출.ipynb",
      "provenance": []
    },
    "kernelspec": {
      "name": "python3",
      "display_name": "Python 3"
    },
    "language_info": {
      "name": "python"
    }
  },
  "cells": [
    {
      "cell_type": "markdown",
      "source": [
        "# 재귀 호출(Recursion)\n",
        "- 내부적으로 자신을 다시 호출하는 구조\n",
        "- 무한반복이될수 있으므로 반듯이 다시 되돌아 가는 조건을 함께 사용해야한다."
      ],
      "metadata": {
        "id": "kqNeEYwrNwyq"
      }
    },
    {
      "cell_type": "code",
      "source": [
        "#무한반복하는 재귀호출(파이썬에서는 호출이 너무 많이지만 자동 종료한다.)\n",
        "'''\n",
        "def openBox() :\n",
        "\tprint(\"종이 상자를 엽니다. ^^\")\n",
        "\topenBox()\n",
        "\n",
        "openBox()\t# 처음 함수를 다시 호출\n",
        "'''"
      ],
      "metadata": {
        "id": "j1nGk3-MR2Yu"
      },
      "execution_count": null,
      "outputs": []
    },
    {
      "cell_type": "code",
      "source": [
        "def openBox() :\n",
        "\tglobal count\n",
        "\tprint(\"종이 상자를 엽니다. ^^\")\n",
        "\tcount -= 1\n",
        "\tif count == 0 :\n",
        "\t\tprint(\"** 반지를 넣고 반환합니다. **\")\n",
        "\t\treturn\n",
        "\topenBox()\n",
        "\tprint(\"종이 상자를 닫습니다. ^^\")\n",
        "\n",
        "count = 10\n",
        "openBox()\t# 처음 함수를 다시 호출"
      ],
      "metadata": {
        "colab": {
          "base_uri": "https://localhost:8080/"
        },
        "id": "EmCP4IONSQuW",
        "outputId": "89feeeeb-cadd-49c0-cdb6-46545039a07b"
      },
      "execution_count": 6,
      "outputs": [
        {
          "output_type": "stream",
          "name": "stdout",
          "text": [
            "종이 상자를 엽니다. ^^\n",
            "종이 상자를 엽니다. ^^\n",
            "종이 상자를 엽니다. ^^\n",
            "종이 상자를 엽니다. ^^\n",
            "종이 상자를 엽니다. ^^\n",
            "종이 상자를 엽니다. ^^\n",
            "종이 상자를 엽니다. ^^\n",
            "종이 상자를 엽니다. ^^\n",
            "종이 상자를 엽니다. ^^\n",
            "종이 상자를 엽니다. ^^\n",
            "** 반지를 넣고 반환합니다. **\n",
            "종이 상자를 닫습니다. ^^\n",
            "종이 상자를 닫습니다. ^^\n",
            "종이 상자를 닫습니다. ^^\n",
            "종이 상자를 닫습니다. ^^\n",
            "종이 상자를 닫습니다. ^^\n",
            "종이 상자를 닫습니다. ^^\n",
            "종이 상자를 닫습니다. ^^\n",
            "종이 상자를 닫습니다. ^^\n",
            "종이 상자를 닫습니다. ^^\n"
          ]
        }
      ]
    },
    {
      "cell_type": "code",
      "source": [
        "def addNumber(num) :\n",
        "    if num <= 1 :\n",
        "        return 1\n",
        "    return num + addNumber(num-1)\n",
        "\n",
        "print(addNumber(10))"
      ],
      "metadata": {
        "colab": {
          "base_uri": "https://localhost:8080/"
        },
        "id": "TCeReiMmSbRd",
        "outputId": "417dce07-2a66-47e9-c7d7-5ac08e0c46a3"
      },
      "execution_count": 7,
      "outputs": [
        {
          "output_type": "stream",
          "name": "stdout",
          "text": [
            "55\n"
          ]
        }
      ]
    },
    {
      "cell_type": "code",
      "source": [
        "def factorial(num) :\n",
        "\tif num <= 1 :\n",
        "\t\tprint('1 반환')\n",
        "\t\treturn 1\n",
        "\tprint(\"%d * %d! 호출\" % (num, num-1))\n",
        "\tretVal = factorial(num-1)\n",
        "\n",
        "\tprint(\"%d * %d!(=%d) 반환\" % (num, num-1, retVal))\n",
        "\treturn num * retVal\n",
        "\n",
        "print('\\n5! = ', factorial(5))"
      ],
      "metadata": {
        "colab": {
          "base_uri": "https://localhost:8080/"
        },
        "id": "-96sXhqGSmx9",
        "outputId": "d2613306-69a6-46cb-d4a7-2e8685d246a9"
      },
      "execution_count": 8,
      "outputs": [
        {
          "output_type": "stream",
          "name": "stdout",
          "text": [
            "5 * 4! 호출\n",
            "4 * 3! 호출\n",
            "3 * 2! 호출\n",
            "2 * 1! 호출\n",
            "1 반환\n",
            "2 * 1!(=1) 반환\n",
            "3 * 2!(=2) 반환\n",
            "4 * 3!(=6) 반환\n",
            "5 * 4!(=24) 반환\n",
            "\n",
            "5! =  120\n"
          ]
        }
      ]
    },
    {
      "cell_type": "code",
      "execution_count": 20,
      "metadata": {
        "colab": {
          "base_uri": "https://localhost:8080/"
        },
        "id": "alTlVVkJNnyM",
        "outputId": "f3562d55-c08e-4849-9b3b-7035e6396883"
      },
      "outputs": [
        {
          "output_type": "stream",
          "name": "stdout",
          "text": [
            "숫자1-->10\n",
            "숫자2-->100\n",
            "5005\n"
          ]
        }
      ],
      "source": [
        "def addNumber(num1, num2) :\n",
        "    if num2 <= num1 :\n",
        "        return num1\n",
        "    return num2 + addNumber( num1, num2 - 1 )\n",
        "\n",
        "num1 = int(input('숫자1-->'))\n",
        "num2 = int(input('숫자2-->'))\n",
        "if num1 > num2 :\n",
        "    num1, num2 = num2, num1\n",
        "print(addNumber(num1, num2))"
      ]
    },
    {
      "cell_type": "code",
      "source": [
        "#10 부터 100까지 합계\n",
        "def addNumber(num) :\n",
        "    if num <= 10 :\n",
        "        return 10\n",
        "    return num + addNumber( num - 1 )\n",
        "\n",
        "print(addNumber(100))"
      ],
      "metadata": {
        "colab": {
          "base_uri": "https://localhost:8080/"
        },
        "id": "oqc5lpPCVoER",
        "outputId": "20707e95-83ee-4324-fe5d-2a33e90de91c"
      },
      "execution_count": 19,
      "outputs": [
        {
          "output_type": "stream",
          "name": "stdout",
          "text": [
            "5005\n"
          ]
        }
      ]
    },
    {
      "cell_type": "code",
      "source": [
        "def gugu(dan, num) :\n",
        "    print(\"%dx%d=%2d\" % (dan, num, dan*num), end = '  ')\n",
        "    if dan < 9:\n",
        "        gugu(dan+1, num)\n",
        "\n",
        "for num in range(1,10) :\n",
        "    gugu(2, num)\n",
        "    print()"
      ],
      "metadata": {
        "colab": {
          "base_uri": "https://localhost:8080/"
        },
        "id": "xonhiqkFOHSi",
        "outputId": "9872b011-a7a7-42a6-e98e-953167785a12"
      },
      "execution_count": 2,
      "outputs": [
        {
          "output_type": "stream",
          "name": "stdout",
          "text": [
            "2x1= 2  3x1= 3  4x1= 4  5x1= 5  6x1= 6  7x1= 7  8x1= 8  9x1= 9  \n",
            "2x2= 4  3x2= 6  4x2= 8  5x2=10  6x2=12  7x2=14  8x2=16  9x2=18  \n",
            "2x3= 6  3x3= 9  4x3=12  5x3=15  6x3=18  7x3=21  8x3=24  9x3=27  \n",
            "2x4= 8  3x4=12  4x4=16  5x4=20  6x4=24  7x4=28  8x4=32  9x4=36  \n",
            "2x5=10  3x5=15  4x5=20  5x5=25  6x5=30  7x5=35  8x5=40  9x5=45  \n",
            "2x6=12  3x6=18  4x6=24  5x6=30  6x6=36  7x6=42  8x6=48  9x6=54  \n",
            "2x7=14  3x7=21  4x7=28  5x7=35  6x7=42  7x7=49  8x7=56  9x7=63  \n",
            "2x8=16  3x8=24  4x8=32  5x8=40  6x8=48  7x8=56  8x8=64  9x8=72  \n",
            "2x9=18  3x9=27  4x9=36  5x9=45  6x9=54  7x9=63  8x9=72  9x9=81  \n"
          ]
        }
      ]
    },
    {
      "cell_type": "markdown",
      "source": [
        "# 재귀호출 연습"
      ],
      "metadata": {
        "id": "SPNRK26IN2cg"
      }
    },
    {
      "cell_type": "code",
      "source": [
        "# 우주선 발사 카운트\n",
        "\n",
        "def countDown(n) :\n",
        "\tif n == 0 :\n",
        "\t\tprint('발사!!')\n",
        "\telse :\n",
        "\t\tprint(n)\n",
        "\t\tcountDown(n-1)\n",
        "\n",
        "countDown(5)"
      ],
      "metadata": {
        "colab": {
          "base_uri": "https://localhost:8080/"
        },
        "id": "-1i2gFc8S2ps",
        "outputId": "cdadef0b-de55-4b78-82fb-adca6ad0ad50"
      },
      "execution_count": 9,
      "outputs": [
        {
          "output_type": "stream",
          "name": "stdout",
          "text": [
            "5\n",
            "4\n",
            "3\n",
            "2\n",
            "1\n",
            "발사!!\n"
          ]
        }
      ]
    },
    {
      "cell_type": "code",
      "source": [
        "# 삼각형 그리기\n",
        "def printStar(n) :\n",
        "\tif n > 0 :\n",
        "\t\tprintStar(n-1)\n",
        "\t\tprint('★' * n)\n",
        "\n",
        "printStar(5)"
      ],
      "metadata": {
        "colab": {
          "base_uri": "https://localhost:8080/"
        },
        "id": "v9bS48F1S8Pj",
        "outputId": "4d396eef-8d74-40da-8003-24f1ae173603"
      },
      "execution_count": 10,
      "outputs": [
        {
          "output_type": "stream",
          "name": "stdout",
          "text": [
            "★\n",
            "★★\n",
            "★★★\n",
            "★★★★\n",
            "★★★★★\n"
          ]
        }
      ]
    },
    {
      "cell_type": "code",
      "source": [
        "# 역삼각형 그리기\n",
        "def printStar(n) :\n",
        "    if n > 0 :\n",
        "        print('★' * n)\n",
        "        printStar(n-1)\n",
        "\t\t\n",
        "\n",
        "printStar(5)"
      ],
      "metadata": {
        "colab": {
          "base_uri": "https://localhost:8080/"
        },
        "id": "UNzjxmMTWJCR",
        "outputId": "c48efcd1-9037-43b4-f74d-645c3ef40e7c"
      },
      "execution_count": 22,
      "outputs": [
        {
          "output_type": "stream",
          "name": "stdout",
          "text": [
            "★★★★★\n",
            "★★★★\n",
            "★★★\n",
            "★★\n",
            "★\n"
          ]
        }
      ]
    },
    {
      "cell_type": "code",
      "source": [
        "# 구구단 출력\n",
        "def gugu(dan, num) :\n",
        "\tprint(\"%d x %d = %d\" % (dan, num, dan*num))\n",
        "\tif num < 9:\n",
        "\t\tgugu(dan, num+1)\n",
        "\n",
        "for dan in range(2,10) :\n",
        "\tprint(\"## %d단 ##\" % dan)\n",
        "\tgugu(dan, 1)"
      ],
      "metadata": {
        "colab": {
          "base_uri": "https://localhost:8080/"
        },
        "id": "UY6WtwmBTCEO",
        "outputId": "64369a79-f7ed-4bb4-c738-75126e80676b"
      },
      "execution_count": 11,
      "outputs": [
        {
          "output_type": "stream",
          "name": "stdout",
          "text": [
            "## 2단 ##\n",
            "2 x 1 = 2\n",
            "2 x 2 = 4\n",
            "2 x 3 = 6\n",
            "2 x 4 = 8\n",
            "2 x 5 = 10\n",
            "2 x 6 = 12\n",
            "2 x 7 = 14\n",
            "2 x 8 = 16\n",
            "2 x 9 = 18\n",
            "## 3단 ##\n",
            "3 x 1 = 3\n",
            "3 x 2 = 6\n",
            "3 x 3 = 9\n",
            "3 x 4 = 12\n",
            "3 x 5 = 15\n",
            "3 x 6 = 18\n",
            "3 x 7 = 21\n",
            "3 x 8 = 24\n",
            "3 x 9 = 27\n",
            "## 4단 ##\n",
            "4 x 1 = 4\n",
            "4 x 2 = 8\n",
            "4 x 3 = 12\n",
            "4 x 4 = 16\n",
            "4 x 5 = 20\n",
            "4 x 6 = 24\n",
            "4 x 7 = 28\n",
            "4 x 8 = 32\n",
            "4 x 9 = 36\n",
            "## 5단 ##\n",
            "5 x 1 = 5\n",
            "5 x 2 = 10\n",
            "5 x 3 = 15\n",
            "5 x 4 = 20\n",
            "5 x 5 = 25\n",
            "5 x 6 = 30\n",
            "5 x 7 = 35\n",
            "5 x 8 = 40\n",
            "5 x 9 = 45\n",
            "## 6단 ##\n",
            "6 x 1 = 6\n",
            "6 x 2 = 12\n",
            "6 x 3 = 18\n",
            "6 x 4 = 24\n",
            "6 x 5 = 30\n",
            "6 x 6 = 36\n",
            "6 x 7 = 42\n",
            "6 x 8 = 48\n",
            "6 x 9 = 54\n",
            "## 7단 ##\n",
            "7 x 1 = 7\n",
            "7 x 2 = 14\n",
            "7 x 3 = 21\n",
            "7 x 4 = 28\n",
            "7 x 5 = 35\n",
            "7 x 6 = 42\n",
            "7 x 7 = 49\n",
            "7 x 8 = 56\n",
            "7 x 9 = 63\n",
            "## 8단 ##\n",
            "8 x 1 = 8\n",
            "8 x 2 = 16\n",
            "8 x 3 = 24\n",
            "8 x 4 = 32\n",
            "8 x 5 = 40\n",
            "8 x 6 = 48\n",
            "8 x 7 = 56\n",
            "8 x 8 = 64\n",
            "8 x 9 = 72\n",
            "## 9단 ##\n",
            "9 x 1 = 9\n",
            "9 x 2 = 18\n",
            "9 x 3 = 27\n",
            "9 x 4 = 36\n",
            "9 x 5 = 45\n",
            "9 x 6 = 54\n",
            "9 x 7 = 63\n",
            "9 x 8 = 72\n",
            "9 x 9 = 81\n"
          ]
        }
      ]
    },
    {
      "cell_type": "code",
      "source": [
        "# n 제곱 계산\n",
        "tab = ''\n",
        "def pow(x, n) :\n",
        "\tglobal tab\n",
        "\ttab += '\t'\n",
        "\tif  n == 0 :\n",
        "\t\treturn 1\n",
        "\tprint(tab+\"%d*%d^(%d-%d)\" % (x, x, n, 1))\n",
        "\treturn x * pow (x, n-1)\n",
        "\n",
        "print('2^4')\n",
        "print('답 -->', pow(2, 4))"
      ],
      "metadata": {
        "colab": {
          "base_uri": "https://localhost:8080/"
        },
        "id": "JlSejDryTYV0",
        "outputId": "96e849aa-f8d2-45ab-f3df-7f38d7188318"
      },
      "execution_count": 12,
      "outputs": [
        {
          "output_type": "stream",
          "name": "stdout",
          "text": [
            "2^4\n",
            "\t2*2^(4-1)\n",
            "\t\t2*2^(3-1)\n",
            "\t\t\t2*2^(2-1)\n",
            "\t\t\t\t2*2^(1-1)\n",
            "답 --> 16\n"
          ]
        }
      ]
    },
    {
      "cell_type": "code",
      "source": [
        "# 배열의 합 계산\n",
        "import random\n",
        "\n",
        "def arySum(arr, n) :\n",
        "\tif n <= 0 :\n",
        "\t\treturn arr[0]\n",
        "\treturn arySum(arr, n-1) + arr[n]\n",
        "\n",
        "ary = [random.randint(0, 255) for _ in range(random.randint(10, 20))]\n",
        "print(ary)\n",
        "print('배열 합계 -->', arySum(ary, len(ary)-1))"
      ],
      "metadata": {
        "colab": {
          "base_uri": "https://localhost:8080/"
        },
        "id": "B20jJGtjTcxk",
        "outputId": "1c543e85-7b9c-4cc5-ace5-fdcb25f401bf"
      },
      "execution_count": 14,
      "outputs": [
        {
          "output_type": "stream",
          "name": "stdout",
          "text": [
            "[188, 92, 130, 147, 120, 82, 193, 45, 151, 246, 136, 136]\n",
            "배열 합계 --> 1666\n"
          ]
        }
      ]
    },
    {
      "cell_type": "code",
      "source": [
        "# 피보나치 수\n",
        "def fibo(n) :\n",
        "\tif n == 0 :\n",
        "\t\treturn 0\n",
        "\telif n == 1 :\n",
        "\t\treturn 1\n",
        "\telse :\n",
        "\t\treturn fibo(n-1) + fibo(n-2)\n",
        "\n",
        "print('피보나치 수 --> 0 1 ', end='')\n",
        "for i in range(2, 20) :\n",
        "\tprint(fibo(i), end=' ')"
      ],
      "metadata": {
        "colab": {
          "base_uri": "https://localhost:8080/"
        },
        "id": "FUbSCLRHTmLb",
        "outputId": "aefb3a58-cf4c-4fac-c409-ddb4fffb6edd"
      },
      "execution_count": 15,
      "outputs": [
        {
          "output_type": "stream",
          "name": "stdout",
          "text": [
            "피보나치 수 --> 0 1 1 2 3 5 8 13 21 34 55 89 144 233 377 610 987 1597 2584 4181 "
          ]
        }
      ]
    },
    {
      "cell_type": "markdown",
      "source": [
        "# 재귀호출 응용"
      ],
      "metadata": {
        "id": "Kw93xr-3N2MQ"
      }
    },
    {
      "cell_type": "code",
      "source": [
        "## 함수 선언 부분 ##\n",
        "def palindrome(pStr) :\n",
        "\tif len(pStr) <= 1 :\n",
        "\t\treturn True\n",
        "\n",
        "\tif pStr[0] != pStr[-1] :\n",
        "\t\treturn False\n",
        "\n",
        "\treturn palindrome(pStr[1:len(pStr)-1])\n",
        "\n",
        "\n",
        "## 전역 변수 선언 부분 ##\n",
        "strAry = [\"reaver\", \"kayak\", \"Borrow or rob\", \"주유소의 소유주\", \"야 너 이번주 주번이 너야\", \"살금 살금\"]\n",
        "\n",
        "## 메인 코드 부분 ##\n",
        "for testStr in strAry :\n",
        "\tprint(testStr, end = '--> ' )\n",
        "\ttestStr = testStr.lower().replace(' ','')\n",
        "\tif palindrome(testStr) :\n",
        "\t\tprint('O')\n",
        "\telse :\n",
        "\t\tprint('X')"
      ],
      "metadata": {
        "colab": {
          "base_uri": "https://localhost:8080/"
        },
        "id": "Mvgew73gU6z5",
        "outputId": "940c52cb-d862-4777-adb0-ceded4bdd8bf"
      },
      "execution_count": 16,
      "outputs": [
        {
          "output_type": "stream",
          "name": "stdout",
          "text": [
            "reaver--> X\n",
            "kayak--> O\n",
            "Borrow or rob--> O\n",
            "주유소의 소유주--> O\n",
            "야 너 이번주 주번이 너야--> O\n",
            "살금 살금--> X\n"
          ]
        }
      ]
    },
    {
      "cell_type": "code",
      "source": [
        "## 함수 선언 부분 ##\n",
        "def notation(base, n):\n",
        "\tif n < base :\n",
        "\t\tprint(numberChar[n], end = ' ')\n",
        "\telse :\n",
        "\t\tnotation(base, n // base)\n",
        "\t\tprint(numberChar[n % base], end = ' ')\n",
        "\n",
        "## 전역 변수 선언 부분 ##\n",
        "numberChar = ['0', '1', '2', '3', '4', '5', '6', '7', '8', '9']\n",
        "numberChar += ['A', 'B', 'C', 'D', 'E', 'F']\n",
        "\n",
        "## 메인 코드 부분 ##\n",
        "number = int(input('10진수 입력 -->'))\n",
        "print('\\n 2진수 : ', end = ' ')\n",
        "notation(2, number)\n",
        "print('\\n 8진수 : ', end = ' ')\n",
        "notation(8, number)\n",
        "print('\\n16진수 : ', end = ' ')\n",
        "notation(16, number)"
      ],
      "metadata": {
        "colab": {
          "base_uri": "https://localhost:8080/"
        },
        "id": "6_WGrjPYOa1g",
        "outputId": "d9cfe672-b16e-4821-8564-95c333067fd4"
      },
      "execution_count": 4,
      "outputs": [
        {
          "output_type": "stream",
          "name": "stdout",
          "text": [
            "10진수 입력 -->16\n",
            "\n",
            " 2진수 :  1 0 0 0 0 \n",
            " 8진수 :  2 0 \n",
            "16진수 :  1 0 "
          ]
        }
      ]
    },
    {
      "cell_type": "code",
      "source": [
        "from tkinter import *\n",
        "\n",
        "## 함수 선언 부분 ##\n",
        "def drawTriangle(x, y, size) :\n",
        "\tif size >= 30 :\n",
        "\t\tdrawTriangle(x, y, size/2)\t\t\t\t# 왼쪽 아래 작은 삼각형\n",
        "\t\tdrawTriangle(x+size/2, y, size / 2)\t\t\t# 오른쪽 아래 작은 삼각형\n",
        "\t\tdrawTriangle(x + size / 4, int(y-size*(3**0.5)/4), size / 2)\t# 위쪽 작은 삼각형\n",
        "\telse :\n",
        "\t\tcanvas.create_polygon (x, y, x + size, y, x + size / 2, y - size*(3 ** 0.5) / 2, fill = 'red', outline = \"red\")\n",
        "\n",
        "## 전역 변수 선언 부분 ##\n",
        "wSize = 1000\n",
        "radius = 400\n",
        "\n",
        "## 메인 코드 부분 ##\n",
        "window = Tk()\n",
        "window.title(\"삼각형 모양의 프랙탈\")\n",
        "canvas = Canvas(window, height = wSize, width = wSize, bg = 'white')\n",
        "\n",
        "drawTriangle(wSize/5, wSize/5*4, wSize*2/3)\n",
        "\n",
        "canvas.pack()\n",
        "window.mainloop()"
      ],
      "metadata": {
        "id": "zeHW1BjxOdtZ"
      },
      "execution_count": null,
      "outputs": []
    }
  ]
}